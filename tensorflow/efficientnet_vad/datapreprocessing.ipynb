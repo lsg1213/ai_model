{
 "cells": [
  {
   "cell_type": "code",
   "execution_count": 23,
   "metadata": {},
   "outputs": [],
   "source": [
    "import pickle, os, librosa, parmap, torchaudio\n",
    "from glob import glob\n",
    "import numpy as np\n",
    "from multiprocessing import cpu_count\n",
    "from concurrent.futures import ThreadPoolExecutor\n",
    "import IPython.display as ipd\n",
    "from scipy.io import loadmat\n",
    "\n",
    "\n",
    "os.environ['CUDA_VISIBLE_DEVICES'] = '-1'\n",
    "datapath = '/root/datasets/ai_challenge/interspeech20'\n",
    "# datapath = '/root/datasets/DCASE2020/mic_dev'\n",
    "SR = 16000\n",
    "n_fft = 512\n",
    "hop_length = 256\n",
    "n_mels = 120"
   ]
  },
  {
   "cell_type": "code",
   "execution_count": 24,
   "metadata": {},
   "outputs": [],
   "source": [
    "def loading(_path):\n",
    "    data, sr = librosa.load(_path, sr=None, mono=False)\n",
    "    num = int(_path.split('.')[-2][-6:])\n",
    "    data = librosa.resample(data, sr, SR)\n",
    "    y_harmonic1, y_percussive1 = librosa.effects.hpss(data[0])\n",
    "    y_harmonic2, y_percussive2 = librosa.effects.hpss(data[1])\n",
    "    S_harmonic1 = librosa.feature.melspectrogram(y_harmonic1, n_fft=n_fft, hop_length=hop_length, n_mels=n_mels)\n",
    "    S_percussive1 = librosa.feature.melspectrogram(y_percussive1, n_fft=n_fft, hop_length=hop_length, n_mels=n_mels)\n",
    "    S_harmonic2 = librosa.feature.melspectrogram(y_harmonic1, n_fft=n_fft, hop_length=hop_length, n_mels=n_mels)\n",
    "    S_percussive2 = librosa.feature.melspectrogram(y_percussive1, n_fft=n_fft, hop_length=hop_length, n_mels=n_mels)\n",
    "    log_Sh1 = librosa.power_to_db(S_harmonic1, ref=np.max)\n",
    "    log_Sp1 = librosa.power_to_db(S_percussive1, ref=np.max)\n",
    "    log_Sh2 = librosa.power_to_db(S_harmonic2, ref=np.max)\n",
    "    log_Sp2 = librosa.power_to_db(S_percussive2, ref=np.max)\n",
    "    \n",
    "    _data = np.concatenate([np.expand_dims(log_Sh1,-1),np.expand_dims(log_Sp1,-1),np.expand_dims(log_Sh2,-1),np.expand_dims(log_Sp2,-1)],axis=-1)\n",
    "    data = np.transpose(_data, [1,0,2])\n",
    "    \n",
    "    return {'data': data, 'index': num}"
   ]
  },
  {
   "cell_type": "code",
   "execution_count": 25,
   "metadata": {},
   "outputs": [],
   "source": [
    "\n",
    "with ThreadPoolExecutor(max_workers=cpu_count() // 2) as pool:\n",
    "    a = glob(os.path.join(datapath, 'train/*.wav'))\n",
    "    _trainset = list(pool.map(loading, a))\n",
    "with ThreadPoolExecutor(max_workers=cpu_count() // 2) as pool:\n",
    "    a = glob(os.path.join(datapath, 'test/*.wav'))\n",
    "    _testset = list(pool.map(loading, a))\n",
    "trainlabel = loadmat(os.path.join(datapath,'train/metadata_wavs.mat'))['phi'][0]\n",
    "testlabel = loadmat(os.path.join(datapath,'test/metadata_wavs.mat'))['phi'][0]\n",
    "datapath = '/root/datasets/ai_challenge/interspeech20/acoustic'"
   ]
  },
  {
   "cell_type": "code",
   "execution_count": 26,
   "metadata": {},
   "outputs": [],
   "source": [
    "trainset = len(_trainset) * [None]\n",
    "testset = len(_testset) * [None]"
   ]
  },
  {
   "cell_type": "code",
   "execution_count": 27,
   "metadata": {},
   "outputs": [],
   "source": [
    "for i in _trainset:\n",
    "    trainset[i['index'] - 1] = i['data']\n",
    "for i in _testset:\n",
    "    testset[i['index'] - 1] = i['data']"
   ]
  },
  {
   "cell_type": "code",
   "execution_count": 28,
   "metadata": {
    "scrolled": true
   },
   "outputs": [],
   "source": [
    "pickle.dump(trainset, open(os.path.join(datapath, 'trainset_x.pickle'), 'wb'))\n",
    "pickle.dump(trainlabel, open(os.path.join(datapath, 'trainset_y.pickle'), 'wb'))\n",
    "pickle.dump(testset, open(os.path.join(datapath, 'testset_x.pickle'), 'wb'))\n",
    "pickle.dump(testlabel, open(os.path.join(datapath, 'testset_y.pickle'), 'wb'))"
   ]
  },
  {
   "cell_type": "code",
   "execution_count": 22,
   "metadata": {},
   "outputs": [
    {
     "data": {
      "text/plain": [
       "['testset_y.pickle',\n",
       " 'trainset_x.pickle',\n",
       " 'testset_x.pickle',\n",
       " 'trainset_y.pickle']"
      ]
     },
     "execution_count": 22,
     "metadata": {},
     "output_type": "execute_result"
    }
   ],
   "source": [
    "os.listdir(datapath)"
   ]
  }
 ],
 "metadata": {
  "kernelspec": {
   "display_name": "Python 3",
   "language": "python",
   "name": "python3"
  },
  "language_info": {
   "codemirror_mode": {
    "name": "ipython",
    "version": 3
   },
   "file_extension": ".py",
   "mimetype": "text/x-python",
   "name": "python",
   "nbconvert_exporter": "python",
   "pygments_lexer": "ipython3",
   "version": "3.7.7"
  }
 },
 "nbformat": 4,
 "nbformat_minor": 4
}
