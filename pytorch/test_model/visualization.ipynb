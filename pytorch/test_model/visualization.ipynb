{
 "cells": [
  {
   "cell_type": "code",
   "execution_count": 1,
   "metadata": {},
   "outputs": [],
   "source": [
    "import os, argparse, pickle, librosa\n",
    "from scipy.io.wavfile import write\n",
    "import matplotlib.pyplot as plt\n",
    "import torch\n",
    "from glob import glob\n",
    "from eval_utils import *\n",
    "import models\n",
    "import IPython.display as ipd"
   ]
  },
  {
   "cell_type": "code",
   "execution_count": 2,
   "metadata": {},
   "outputs": [],
   "source": [
    "args = argparse.ArgumentParser()\n",
    "args.add_argument('--gpus', type=str, default='0')\n",
    "args.add_argument('--batch', type=int, default=1)\n",
    "args.add_argument('--len', type=int, default=200)\n",
    "args.add_argument('--b', type=int, default=200)\n",
    "args.add_argument('--latency', type=int, default=5)\n",
    "args.add_argument('--mode', type=str, default='sj_S')\n",
    "args.add_argument('--model', type=str, default='CombineAutoencoder')\n",
    "args.add_argument('--weight', action='store_true')\n",
    "args.add_argument('--ema', action='store_true')\n",
    "args.add_argument('--relu', action='store_true')\n",
    "args.add_argument('--future', action='store_true')\n",
    "args.add_argument('--feature', type=str, default='wav', choices=['wav', 'mel'])\n",
    "args.add_argument('--diff', action='store_true')\n",
    "config = args.parse_known_args(['--diff', '--future'])[0]"
   ]
  },
  {
   "cell_type": "code",
   "execution_count": 3,
   "metadata": {},
   "outputs": [],
   "source": [
    "SR = 8192\n",
    "WINDOW_SIZE = 500 # us\n",
    "data_length = config.len\n",
    "BATCH_SIZE = config.batch\n",
    "K, m = 8, 8\n",
    "ls = 128"
   ]
  },
  {
   "cell_type": "code",
   "execution_count": 4,
   "metadata": {},
   "outputs": [],
   "source": [
    "ABSpath = '/home/skuser/'\n",
    "path = os.path.join(ABSpath, 'ai_model/pytorch/test_model')\n",
    "data_path = os.path.join(ABSpath,'datasets/hyundai')\n",
    "device = torch.device('cuda:0') if torch.cuda.is_available() else torch.device('cpu')\n",
    "accel_raw_data = pickle.load(open(os.path.join(data_path,'stationary_accel_data.pickle'),'rb'))\n",
    "sound_raw_data = pickle.load(open(os.path.join(data_path,'stationary_sound_data.pickle'),'rb'))\n",
    "transfer_f = np.array(pickle.load(open(os.path.join(data_path,'transfer_f.pickle'),'rb')))\n",
    "transfer_f = torch.from_numpy(transfer_f).to(device)\n",
    "transfer_f.requires_grad = False\n",
    "\n",
    "dataset = makeDataset(accel_raw_data, sound_raw_data, config, False)\n",
    "name = f'CombineAutoencoder_sj_S_b{config.b}_d{config.len}_lat{config.latency}_adam_0.001_decay0.7071_featurewav_future_diff/*'\n",
    "# name = 'FCAutoencoder_sj_S_40_40_adam_0.001_decay0.7071/*'\n",
    "modelsavepath = sorted(glob(os.path.join(path, 'model_save/'+name)), key=lambda x: float(os.path.basename(x).split('.pt')[0].split('_')[-1]))[0]\n",
    "model = getattr(models, config.model)(dataset[0][0].shape[1:], dataset[0][1].shape[1:], dataset[0][0].shape[0], dataset[0][1].shape[0], config).to(device)"
   ]
  },
  {
   "cell_type": "code",
   "execution_count": 5,
   "metadata": {},
   "outputs": [
    {
     "data": {
      "text/plain": [
       "(400, 200, 12, 8)"
      ]
     },
     "execution_count": 5,
     "metadata": {},
     "output_type": "execute_result"
    }
   ],
   "source": [
    "dataset[0][0].shape[1], dataset[0][1].shape[0], dataset[0][0].shape[0], dataset[0][1].shape[1]"
   ]
  },
  {
   "cell_type": "code",
   "execution_count": 6,
   "metadata": {},
   "outputs": [
    {
     "data": {
      "text/plain": [
       "(400, 200, 12, 8)"
      ]
     },
     "execution_count": 6,
     "metadata": {},
     "output_type": "execute_result"
    }
   ],
   "source": [
    "dataset[0][0].shape[1], dataset[0][1].shape[0], dataset[0][0].shape[0], dataset[0][1].shape[1]"
   ]
  },
  {
   "cell_type": "code",
   "execution_count": 7,
   "metadata": {
    "scrolled": false
   },
   "outputs": [
    {
     "name": "stdout",
     "output_type": "stream",
     "text": [
      "/home/skuser/ai_model/pytorch/test_model/model_save/CombineAutoencoder_sj_S_b200_d200_lat5_adam_0.001_decay0.7071_featurewav_future_diff/6_0.9055.pt\n"
     ]
    },
    {
     "data": {
      "text/plain": [
       "<All keys matched successfully>"
      ]
     },
     "execution_count": 7,
     "metadata": {},
     "output_type": "execute_result"
    }
   ],
   "source": [
    "print(modelsavepath)\n",
    "model.load_state_dict(torch.load(modelsavepath)['model'])"
   ]
  },
  {
   "cell_type": "code",
   "execution_count": null,
   "metadata": {},
   "outputs": [],
   "source": [
    "dataset_generator = DataLoader(dataset, batch_size=64, shuffle=False)\n",
    "data_res, sound_res = [], []\n",
    "model.eval()\n",
    "with torch.no_grad():\n",
    "    for data, sound in dataset_generator:\n",
    "        data_res.append(conv_with_S(model(data.to(device)), S_data=transfer_f, device=device, config=config).cpu())\n",
    "        sound_res.append(sound)"
   ]
  },
  {
   "cell_type": "code",
   "execution_count": null,
   "metadata": {},
   "outputs": [],
   "source": [
    "from time import time\n",
    "with torch.no_grad():\n",
    "    for data, sound in dataset_generator:\n",
    "        s = time()\n",
    "        model(data.to(device))\n",
    "        print(time() - s)\n",
    "        break"
   ]
  },
  {
   "cell_type": "code",
   "execution_count": null,
   "metadata": {},
   "outputs": [],
   "source": [
    "data_res = torch.cat(data_res)\n",
    "sound_res = torch.cat(sound_res)"
   ]
  },
  {
   "cell_type": "code",
   "execution_count": null,
   "metadata": {},
   "outputs": [],
   "source": [
    "data_res = torch.reshape(data_res, (-1,data_res.size(-1)))\n",
    "sound_res = torch.reshape(sound_res, (-1,data_res.size(-1)))"
   ]
  },
  {
   "cell_type": "code",
   "execution_count": null,
   "metadata": {
    "scrolled": false
   },
   "outputs": [],
   "source": [
    "fig = plt.figure()\n",
    "fig, ax_lst = plt.subplots(1, 2, figsize=(16,10))\n",
    "ax_lst[0].plot(np.arange(data_res.size(0)), data_res[:,0], color=\"blue\")\n",
    "ax_lst[1].plot(np.arange(sound_res.size(0)), sound_res[:,0], color=\"red\")\n",
    "# ax_lst[1].plot(np.arange(data_res.size(0)), data_res[:,1])\n",
    "# ax_lst[0].plot(np.arange(sound_res.size(0)), data_res[:,1])"
   ]
  },
  {
   "cell_type": "code",
   "execution_count": null,
   "metadata": {},
   "outputs": [],
   "source": [
    "start = 1000000\n",
    "end = 1010000\n",
    "fig=plt.figure(figsize=(16,8))\n",
    "ax = fig.add_subplot()\n",
    "ax.plot(sound_res[start:end,0], color=\"blue\")\n",
    "ax.plot(data_res[start:end,0], color=\"red\")\n",
    "# self.writer.add_figure(\"Train/Plot\", fig, data_res.size(0))\n",
    "plt.show(fig)"
   ]
  },
  {
   "cell_type": "code",
   "execution_count": null,
   "metadata": {},
   "outputs": [],
   "source": [
    "# smoo = ema(data_res, n=40)"
   ]
  },
  {
   "cell_type": "code",
   "execution_count": null,
   "metadata": {
    "scrolled": false
   },
   "outputs": [],
   "source": [
    "# fig=plt.figure(figsize=(16,8))\n",
    "# ax = fig.add_subplot()\n",
    "# ax.plot(smoo[start:end,1], color=\"red\")\n",
    "# ax.plot(sound_res[start:end,1], color=\"blue\")\n",
    "# plt.show(fig)"
   ]
  },
  {
   "cell_type": "code",
   "execution_count": null,
   "metadata": {
    "scrolled": true
   },
   "outputs": [],
   "source": [
    "dBA_metric(data_res, sound_res, False)"
   ]
  },
  {
   "cell_type": "code",
   "execution_count": null,
   "metadata": {},
   "outputs": [],
   "source": [
    "write_wav(sound_res[1000000:1100000,0] - data_res[1000000:1100000,0], name='sound').shape"
   ]
  },
  {
   "cell_type": "code",
   "execution_count": null,
   "metadata": {},
   "outputs": [],
   "source": [
    "ipd.Audio('sound.wav',normalize=False)"
   ]
  },
  {
   "cell_type": "code",
   "execution_count": null,
   "metadata": {},
   "outputs": [],
   "source": [
    "ipd.Audio('smooth.wav',normalize=False) # load a local WAV file"
   ]
  },
  {
   "cell_type": "code",
   "execution_count": null,
   "metadata": {},
   "outputs": [],
   "source": []
  }
 ],
 "metadata": {
  "kernelspec": {
   "display_name": "Python 3",
   "language": "python",
   "name": "python3"
  },
  "language_info": {
   "codemirror_mode": {
    "name": "ipython",
    "version": 3
   },
   "file_extension": ".py",
   "mimetype": "text/x-python",
   "name": "python",
   "nbconvert_exporter": "python",
   "pygments_lexer": "ipython3",
   "version": "3.7.9"
  }
 },
 "nbformat": 4,
 "nbformat_minor": 4
}
